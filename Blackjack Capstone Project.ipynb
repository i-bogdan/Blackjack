{
 "cells": [
  {
   "cell_type": "code",
   "execution_count": 1,
   "metadata": {
    "collapsed": true
   },
   "outputs": [],
   "source": [
    "import random   \n",
    "\n",
    "# initialize some useful global variables\n",
    "in_play = False\n",
    "\n",
    "# define globals for cards\n",
    "SUITS = ('C', 'S', 'H', 'D')\n",
    "RANKS = ('A', '2', '3', '4', '5', '6', '7', '8', '9', 'T', 'J', 'Q', 'K')\n",
    "VALUES = {'A':1, '2':2, '3':3, '4':4, '5':5, '6':6, '7':7, '8':8, '9':9, 'T':10, 'J':10, 'Q':10, 'K':10}"
   ]
  },
  {
   "cell_type": "code",
   "execution_count": 2,
   "metadata": {
    "collapsed": true
   },
   "outputs": [],
   "source": [
    "# define card class\n",
    "class Card:\n",
    "    def __init__(self, suit, rank):\n",
    "        if (suit in SUITS) and (rank in RANKS):\n",
    "            self.suit = suit\n",
    "            self.rank = rank\n",
    "        else:\n",
    "            self.suit = None\n",
    "            self.rank = None\n",
    "            print \"Invalid card: \", suit, rank\n",
    "\n",
    "    def __str__(self):\n",
    "        return self.suit + self.rank\n",
    "\n",
    "    def get_suit(self):\n",
    "        return self.suit\n",
    "\n",
    "    def get_rank(self):\n",
    "        return self.rank"
   ]
  },
  {
   "cell_type": "code",
   "execution_count": 3,
   "metadata": {
    "collapsed": true
   },
   "outputs": [],
   "source": [
    "# define hand class\n",
    "class Hand:\n",
    "    def __init__(self):\n",
    "        self.hand_list = []\t# create Hand object\n",
    "\n",
    "    def __str__(self):\n",
    "        ans = \"\"\n",
    "        for i in range(len(self.hand_list)):\n",
    "            ans = ans +' '+ str(self.hand_list[i])\n",
    "        return 'Hand contains'+ans\t# return a string representation of a hand\n",
    "\n",
    "    def add_card(self, card):\n",
    "        self.hand_list.append(card)\t# add a card object to a hand\n",
    "\n",
    "    def get_value(self):\n",
    "        global got_aces #this variable is used to identify if a hand is hard (value = 0) or soft (value = 1)\n",
    "        value = 0\n",
    "        got_aces = 0\n",
    "        for i in range(len(self.hand_list)):\n",
    "                v = str(self.hand_list[i])\n",
    "                v = v[1:]\n",
    "                if v =='A':\n",
    "                    got_aces = 1\n",
    "                value += VALUES.get(v)\n",
    "        if got_aces == 1 and value + 10 > 21:\n",
    "            got_aces = 0\n",
    "        elif got_aces == 1 and value + 10 <=21:\n",
    "            value = value + 10\n",
    "        return value\t# compute the value of the hand\n",
    "    \n",
    "    def get_aces(self):\n",
    "        #computes the number of aces in hand\n",
    "        aces = 0\n",
    "        for i in range(len(self.hand_list)):\n",
    "            v = str(self.hand_list[i])[1:]\n",
    "            if v == 'A':\n",
    "                aces += 1\n",
    "        return aces\n",
    "    \n",
    "    def __len__(self):\n",
    "        return len(self.hand_list)\n",
    "    \n",
    "    def __getitem__(self, key):\n",
    "        return str(self.hand_list[key])[1:]"
   ]
  },
  {
   "cell_type": "code",
   "execution_count": 4,
   "metadata": {
    "collapsed": true
   },
   "outputs": [],
   "source": [
    "# define deck class \n",
    "class Deck:\n",
    "    def __init__(self):\n",
    "        self.deck_list=[]\n",
    "        for i in range(len(SUITS)):\n",
    "            for j in range(len(RANKS)):\n",
    "                c = Card(SUITS[i], RANKS[j])\n",
    "                self.deck_list.append(c)\n",
    "                # create a Deck object\n",
    "\n",
    "    def shuffle(self):\n",
    "        # shuffle the deck \n",
    "        random.shuffle(self.deck_list)    \n",
    "\n",
    "    def deal_card(self):\n",
    "        deal = self.deck_list[-1]\n",
    "        self.deck_list.pop(-1)\n",
    "        return deal\n",
    "        \n",
    "    \n",
    "    def __str__(self):\n",
    "        ans = \"\"\n",
    "        for i in range(len(self.deck_list)):\n",
    "            ans = ans +' '+ str(self.deck_list[i])\n",
    "        return 'Deck contains'+ans\n",
    "    "
   ]
  },
  {
   "cell_type": "code",
   "execution_count": 5,
   "metadata": {
    "collapsed": false
   },
   "outputs": [],
   "source": [
    "#define event handlers\n",
    "def deal():\n",
    "    \"\"\"this function is used for dealing cards at the beginning of the game\"\"\"\n",
    "    global in_play, deck, player_hand, dealer_hand\n",
    "    deck = Deck()\n",
    "    deck.shuffle()\n",
    "    player_hand = Hand()\n",
    "    dealer_hand = Hand()\n",
    "    for i in range(2):\n",
    "        player_hand.add_card(deck.deal_card())\n",
    "        dealer_hand.add_card(deck.deal_card())   \n",
    "    in_play = True\n",
    "    #print(player_hand.__str__())\n",
    "    #print(dealer_hand.__str__())\n",
    "\n",
    "    \n",
    "    \n",
    "def hit():\n",
    "    \"\"\"this function is used for adding a new card to the hand\"\"\"\n",
    "    global in_play, win, lose, tie\n",
    "    if in_play == True:\n",
    "        if player_hand.get_value()<=21:\n",
    "            player_hand.add_card(deck.deal_card())\n",
    "            if player_hand.get_value()>21:\n",
    "                lose = lose + 1\n",
    "                in_play = False               \n",
    "    print(player_hand.__str__())\n",
    "    \n",
    "                \n",
    "       \n",
    "def stand():\n",
    "        \"\"\"this function is called after the player stands\"\"\"\n",
    "        global in_play, win, lose, tie, initial_hand_value\n",
    "  \n",
    "        if initial_hand_value>21:\n",
    "            in_play = False\n",
    "            lose = lose + 1\n",
    "        else:\n",
    "            while dealer_hand.get_value()<17:\n",
    "                dealer_hand.add_card(deck.deal_card())\n",
    "            if dealer_hand.get_value()>21:\n",
    "                win = win + 1\n",
    "                in_play = False\n",
    "            elif dealer_hand.get_value()>initial_hand_value:\n",
    "                lose = lose + 1\n",
    "                in_play = False\n",
    "            elif dealer_hand.get_value()==initial_hand_value:\n",
    "                tie = tie + 1\n",
    "                in_play = False\n",
    "            elif initial_hand_value>dealer_hand.get_value():\n",
    "                win = win + 1\n",
    "                in_play = False"
   ]
  },
  {
   "cell_type": "code",
   "execution_count": 6,
   "metadata": {
    "collapsed": true
   },
   "outputs": [],
   "source": [
    "def hard_reward(initial_hand_value, action, hand_value_after_action, aces_in_hand, dealer_card):\n",
    "    \"\"\"This function is used for computing the reward for hard hands\"\"\"\n",
    "    random_reward = random.uniform(0,1) * 2 - 1\n",
    "    \n",
    "    if action == 'Hit':\n",
    "        if hand_value_after_action < 22:\n",
    "            reward = random_reward + 2\n",
    "        else:\n",
    "            reward = random_reward - 2\n",
    "    elif action == 'Stand':\n",
    "        if hand_value_after_action > 21:\n",
    "            reward = random_reward + 2\n",
    "        else:\n",
    "            reward = random_reward - 2\n",
    "                                \n",
    "    return reward"
   ]
  },
  {
   "cell_type": "code",
   "execution_count": 7,
   "metadata": {
    "collapsed": true
   },
   "outputs": [],
   "source": [
    "def reward(action):\n",
    "    \"\"\"This function is used for computing the reward when taking an action in a state\"\"\"\n",
    "    global initial_hand_value\n",
    "    initial_hand_value = player_hand.get_value()\n",
    "    chosen_action = action\n",
    "    aces_in_hand = got_aces\n",
    "    if aces_in_hand == 1:\n",
    "        rwrd = soft_reward(action)\n",
    "    else:\n",
    "        player_hand.add_card(deck.deal_card())\n",
    "        hand_value_after_action = player_hand.get_value()\n",
    "        dealer_card = dealer_hand[-1]\n",
    "    \n",
    "        rwrd = hard_reward(initial_hand_value, chosen_action, hand_value_after_action, aces_in_hand, dealer_card)\n",
    "    \n",
    "    return rwrd"
   ]
  },
  {
   "cell_type": "code",
   "execution_count": 8,
   "metadata": {
    "collapsed": true
   },
   "outputs": [],
   "source": [
    "def soft_reward(action):\n",
    "    \"\"\"The soft_reward function is called to compute the reward for player hands that are soft\"\"\"\n",
    "    global got_aces\n",
    "    chosen_action = action\n",
    "    random_reward = random.uniform(0,1) * 2 - 1\n",
    "    initial_soft_hand_value = player_hand.get_value()\n",
    "    player_hand.add_card(deck.deal_card())\n",
    "    hand_value_after_hit = player_hand.get_value()\n",
    "    if got_aces == 1:\n",
    "        if chosen_action == 'Hit':\n",
    "            reward = random_reward + 2\n",
    "        elif chosen_action == 'Stand':\n",
    "            reward = random_reward - 2\n",
    "    else:\n",
    "        while player_hand.get_value() <= initial_soft_hand_value:\n",
    "            player_hand.add_card(deck.deal_card())\n",
    "        if player_hand.get_value() > initial_soft_hand_value and player_hand.get_value() < 22:\n",
    "            if chosen_action == 'Hit':\n",
    "                reward = random_reward + 2\n",
    "            elif chosen_action == 'Stand':\n",
    "                reward = random_reward - 2\n",
    "        else:\n",
    "            if chosen_action == 'Hit':\n",
    "                reward = random_reward - 2\n",
    "            elif chosen_action == 'Stand':\n",
    "                reward = random_reward + 2\n",
    "    return reward"
   ]
  },
  {
   "cell_type": "code",
   "execution_count": 9,
   "metadata": {
    "collapsed": true
   },
   "outputs": [],
   "source": [
    "def build_state():\n",
    "    \"\"\"This function is called to assemble the state as a tuple of the following 4 parameters:\n",
    "    1. sum of the cards in hand (player_hand_value)\n",
    "    2. if the hand is hard (got_aces = 0) or soft (got_aces = 1)\n",
    "    3. number of cards in hand (len(player_hand))\n",
    "    4. the dealer card that is visible to the player (dealer_hand[-1])\"\"\"\n",
    "    global got_aces\n",
    "    player_hand_value = player_hand.get_value()\n",
    "    state = (player_hand_value, got_aces, len(player_hand), dealer_hand[-1])\n",
    "    return state"
   ]
  },
  {
   "cell_type": "code",
   "execution_count": 10,
   "metadata": {
    "collapsed": true
   },
   "outputs": [],
   "source": [
    "def createQ(state):\n",
    "    '''if machine is learning and encounters a state that wasn't encountered before, create an entry in the Q-table \n",
    "    with default values for each action'''\n",
    "    if state not in Q:\n",
    "        Q[state] = {'Hit' : 0.0, 'Stand' : 0.0}"
   ]
  },
  {
   "cell_type": "code",
   "execution_count": 11,
   "metadata": {
    "collapsed": true
   },
   "outputs": [],
   "source": [
    "def choose_action(state):\n",
    "    '''This function is called when the machine has to choose an action in a state'''\n",
    "    action_list = ['Hit', 'Stand']\n",
    "            \n",
    "    if learning:\n",
    "        action = random.choice(action_list)                \n",
    "    else:\n",
    "        createQ(state)\n",
    "        action = get_action(Q[state], get_maxQ(state))\n",
    "        \n",
    "    return action"
   ]
  },
  {
   "cell_type": "code",
   "execution_count": 12,
   "metadata": {
    "collapsed": true
   },
   "outputs": [],
   "source": [
    "def get_action(dictionary, value):\n",
    "        \"\"\" The function is called when searching for the action \n",
    "        with the highest reward in a state \"\"\"\n",
    "        action_list = []\n",
    "        for k, v in dictionary.iteritems():\n",
    "            if v == value:\n",
    "                action_list.append(k)\n",
    "        return random.choice(action_list)"
   ]
  },
  {
   "cell_type": "code",
   "execution_count": 13,
   "metadata": {
    "collapsed": true
   },
   "outputs": [],
   "source": [
    "def get_maxQ(state):\n",
    "        \"\"\" The get_maxQ function is called when the machine is asked to find the\n",
    "            maximum Q-value of all actions based on the 'state' it is in. \"\"\"\n",
    "        maxQ = max(Q[state].values())\n",
    "\n",
    "        return maxQ "
   ]
  },
  {
   "cell_type": "code",
   "execution_count": 14,
   "metadata": {
    "collapsed": true
   },
   "outputs": [],
   "source": [
    "def learn(state, action, reward):\n",
    "        \"\"\" The learn function is called after the machine completes an action and\n",
    "            receives an award. This function does not consider future rewards \n",
    "            when conducting learning. \"\"\"\n",
    "        Q[state][action] += reward\n",
    "        return"
   ]
  },
  {
   "cell_type": "code",
   "execution_count": 15,
   "metadata": {
    "collapsed": true
   },
   "outputs": [],
   "source": [
    "def run():\n",
    "    \"\"\" The run function is used for playing a game of Blackjack\"\"\"\n",
    "    global lose, in_play\n",
    "    deal()\n",
    "    in_play = True\n",
    "    while in_play:\n",
    "    \n",
    "        state = build_state()\n",
    "        createQ(state)\n",
    "        action = choose_action(state)\n",
    "        Reward = reward(action)\n",
    "        learn(state, action, Reward)\n",
    "        if action == 'Stand':\n",
    "            stand()\n",
    "        elif action == 'Hit':\n",
    "            if player_hand.get_value()>21:\n",
    "                lose = lose + 1\n",
    "                in_play = False"
   ]
  },
  {
   "cell_type": "code",
   "execution_count": 51,
   "metadata": {
    "collapsed": true
   },
   "outputs": [],
   "source": [
    "#Creating a dictionary that will be used as Q-table\n",
    "Q = dict()"
   ]
  },
  {
   "cell_type": "code",
   "execution_count": 55,
   "metadata": {
    "collapsed": true
   },
   "outputs": [],
   "source": [
    "#The learning flag is set to True for training the model and False for testing the model\n",
    "learning = False"
   ]
  },
  {
   "cell_type": "code",
   "execution_count": 80,
   "metadata": {
    "collapsed": true
   },
   "outputs": [],
   "source": [
    "#Defining the variables that will be used for evaluating the performance of the model\n",
    "tie = 0 #counts the number of games that end in tie\n",
    "win = 0 #counts the number of games that end with player winning\n",
    "lose = 0 #counts the number of games that end with player losing"
   ]
  },
  {
   "cell_type": "code",
   "execution_count": 81,
   "metadata": {
    "collapsed": false
   },
   "outputs": [
    {
     "name": "stdout",
     "output_type": "stream",
     "text": [
      "Done\n"
     ]
    }
   ],
   "source": [
    "#Play the number of games equal to the range of i\n",
    "for i in range (100000):\n",
    "    run()\n",
    "print(\"Done\")"
   ]
  },
  {
   "cell_type": "code",
   "execution_count": 82,
   "metadata": {
    "collapsed": false
   },
   "outputs": [
    {
     "name": "stdout",
     "output_type": "stream",
     "text": [
      "Win percentage of the model is: 42.514%\n"
     ]
    }
   ],
   "source": [
    "#Compute the win percentage of the model\n",
    "print('Win percentage of the model is: ' + str(float(win) / (win + lose + tie) * 100)) + '%'"
   ]
  },
  {
   "cell_type": "code",
   "execution_count": 190,
   "metadata": {
    "collapsed": false
   },
   "outputs": [],
   "source": [
    "#Verify the entries in the Q-table for specific parameters of the states (e.g sum of cards in hand -- k[0], hard hands or soft hands -- k[1]==0 or k[1]!=0)\n",
    "for k, v in Q.items():\n",
    "    if k[0] == 21 and k[1] == 1:\n",
    "        print(k, v)"
   ]
  },
  {
   "cell_type": "code",
   "execution_count": null,
   "metadata": {
    "collapsed": true
   },
   "outputs": [],
   "source": []
  }
 ],
 "metadata": {
  "kernelspec": {
   "display_name": "Python 2",
   "language": "python",
   "name": "python2"
  },
  "language_info": {
   "codemirror_mode": {
    "name": "ipython",
    "version": 2
   },
   "file_extension": ".py",
   "mimetype": "text/x-python",
   "name": "python",
   "nbconvert_exporter": "python",
   "pygments_lexer": "ipython2",
   "version": "2.7.13"
  }
 },
 "nbformat": 4,
 "nbformat_minor": 2
}
